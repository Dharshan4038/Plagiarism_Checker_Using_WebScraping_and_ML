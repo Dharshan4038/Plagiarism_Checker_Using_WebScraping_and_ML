{
 "cells": [
  {
   "cell_type": "code",
   "execution_count": 2,
   "metadata": {},
   "outputs": [],
   "source": [
    "import txtclean as tc\n",
    "#test data for lemmmatisation\n",
    "paragraph = '''The water cycle, also known as the hydrologic cycle or the hydrological cycle, is a biogeochemical cycle that describes the continuous movement of water on, above and below the surface of the Earth. The mass of water on Earth remains fairly constant over time but the partitioning of the water into the major reservoirs of ice, fresh water, saline water (salt water) and atmospheric water is variable depending on a wide range of climatic variables. The water moves from one reservoir to another, such as from river to ocean, or from the ocean to the atmosphere, by the physical processes of evaporation, transpiration, condensation, precipitation, infiltration, surface runoff, and subsurface flow. In doing so, the water goes through different forms: liquid, solid (ice) and vapor. The ocean plays a key role in the water cycle as it is the source of 86% of global evaporation.[1]\n",
    "\n",
    "The water cycle involves the exchange of energy, which leads to temperature changes. When water evaporates, it takes up energy from its surroundings and cools the environment. When it condenses, it releases energy and warms the environment. These heat exchanges influence climate.\n",
    "\n",
    "The evaporative phase of the cycle purifies water which then replenishes the land with freshwater. The flow of liquid water and ice transports minerals across the globe. It is also involved in reshaping the geological features of the Earth, through processes including erosion and sedimentation. The water cycle is also essential for the maintenance of most life and ecosystems on the planet. '''"
   ]
  },
  {
   "cell_type": "code",
   "execution_count": 3,
   "metadata": {},
   "outputs": [
    {
     "name": "stdout",
     "output_type": "stream",
     "text": [
      "CONTENT AFTER STEP 1 PUNCTUATION REMOVAL:  the water cycle also known as the hydrologic cycle or the hydrological cycle is a biogeochemical cycle that describes the continuous movement of water on above and below the surface of the earth the mass of water on earth remains fairly constant over time but the partitioning of the water into the major reservoirs of ice fresh water saline water salt water and atmospheric water is variable depending on a wide range of climatic variables the water moves from one reservoir to another such as from river to ocean or from the ocean to the atmosphere by the physical processes of evaporation transpiration condensation precipitation infiltration surface runoff and subsurface flow in doing so the water goes through different forms liquid solid ice and vapor the ocean plays a key role in the water cycle as it is the source of  of global evaporation  the water cycle involves the exchange of energy which leads to temperature changes when water evaporates it takes up energy from its surroundings and cools the environment when it condenses it releases energy and warms the environment these heat exchanges influence climate the evaporative phase of the cycle purifies water which then replenishes the land with freshwater the flow of liquid water and ice transports minerals across the globe it is also involved in reshaping the geological features of the earth through processes including erosion and sedimentation the water cycle is also essential for the maintenance of most life and ecosystems on the planet \n"
     ]
    }
   ],
   "source": [
    "#Step 1: text cleaning -> punctuation removal,special characters and numbers removal\n",
    "c = tc.clean_text(paragraph)\n",
    "print(\"CONTENT AFTER STEP 1 PUNCTUATION REMOVAL: \",c)"
   ]
  },
  {
   "cell_type": "code",
   "execution_count": 4,
   "metadata": {},
   "outputs": [
    {
     "name": "stdout",
     "output_type": "stream",
     "text": [
      "CONTENT AFTER STEP 2 TOKENIZE:  ['the', 'water', 'cycle', 'also', 'known', 'as', 'the', 'hydrologic', 'cycle', 'or', 'the', 'hydrological', 'cycle', 'is', 'a', 'biogeochemical', 'cycle', 'that', 'describes', 'the', 'continuous', 'movement', 'of', 'water', 'on', 'above', 'and', 'below', 'the', 'surface', 'of', 'the', 'earth', 'the', 'mass', 'of', 'water', 'on', 'earth', 'remains', 'fairly', 'constant', 'over', 'time', 'but', 'the', 'partitioning', 'of', 'the', 'water', 'into', 'the', 'major', 'reservoirs', 'of', 'ice', 'fresh', 'water', 'saline', 'water', 'salt', 'water', 'and', 'atmospheric', 'water', 'is', 'variable', 'depending', 'on', 'a', 'wide', 'range', 'of', 'climatic', 'variables', 'the', 'water', 'moves', 'from', 'one', 'reservoir', 'to', 'another', 'such', 'as', 'from', 'river', 'to', 'ocean', 'or', 'from', 'the', 'ocean', 'to', 'the', 'atmosphere', 'by', 'the', 'physical', 'processes', 'of', 'evaporation', 'transpiration', 'condensation', 'precipitation', 'infiltration', 'surface', 'runoff', 'and', 'subsurface', 'flow', 'in', 'doing', 'so', 'the', 'water', 'goes', 'through', 'different', 'forms', 'liquid', 'solid', 'ice', 'and', 'vapor', 'the', 'ocean', 'plays', 'a', 'key', 'role', 'in', 'the', 'water', 'cycle', 'as', 'it', 'is', 'the', 'source', 'of', 'of', 'global', 'evaporation', 'the', 'water', 'cycle', 'involves', 'the', 'exchange', 'of', 'energy', 'which', 'leads', 'to', 'temperature', 'changes', 'when', 'water', 'evaporates', 'it', 'takes', 'up', 'energy', 'from', 'its', 'surroundings', 'and', 'cools', 'the', 'environment', 'when', 'it', 'condenses', 'it', 'releases', 'energy', 'and', 'warms', 'the', 'environment', 'these', 'heat', 'exchanges', 'influence', 'climate', 'the', 'evaporative', 'phase', 'of', 'the', 'cycle', 'purifies', 'water', 'which', 'then', 'replenishes', 'the', 'land', 'with', 'freshwater', 'the', 'flow', 'of', 'liquid', 'water', 'and', 'ice', 'transports', 'minerals', 'across', 'the', 'globe', 'it', 'is', 'also', 'involved', 'in', 'reshaping', 'the', 'geological', 'features', 'of', 'the', 'earth', 'through', 'processes', 'including', 'erosion', 'and', 'sedimentation', 'the', 'water', 'cycle', 'is', 'also', 'essential', 'for', 'the', 'maintenance', 'of', 'most', 'life', 'and', 'ecosystems', 'on', 'the', 'planet']\n"
     ]
    }
   ],
   "source": [
    "#Step 2: tokenization -> split text to words or tokens\n",
    "word = tc.tokenize_text(c)\n",
    "print(\"CONTENT AFTER STEP 2 TOKENIZE: \",word)"
   ]
  },
  {
   "cell_type": "code",
   "execution_count": 5,
   "metadata": {},
   "outputs": [
    {
     "name": "stdout",
     "output_type": "stream",
     "text": [
      "CONTENT AFTER STEP 3 STOPWORD REMOVAL:  ['water', 'cycle', 'also', 'known', 'hydrologic', 'cycle', 'hydrological', 'cycle', 'biogeochemical', 'cycle', 'describes', 'continuous', 'movement', 'water', 'surface', 'earth', 'mass', 'water', 'earth', 'remains', 'fairly', 'constant', 'time', 'partitioning', 'water', 'major', 'reservoirs', 'ice', 'fresh', 'water', 'saline', 'water', 'salt', 'water', 'atmospheric', 'water', 'variable', 'depending', 'wide', 'range', 'climatic', 'variables', 'water', 'moves', 'one', 'reservoir', 'another', 'river', 'ocean', 'ocean', 'atmosphere', 'physical', 'processes', 'evaporation', 'transpiration', 'condensation', 'precipitation', 'infiltration', 'surface', 'runoff', 'subsurface', 'flow', 'water', 'goes', 'different', 'forms', 'liquid', 'solid', 'ice', 'vapor', 'ocean', 'plays', 'key', 'role', 'water', 'cycle', 'source', 'global', 'evaporation', 'water', 'cycle', 'involves', 'exchange', 'energy', 'leads', 'temperature', 'changes', 'water', 'evaporates', 'takes', 'energy', 'surroundings', 'cools', 'environment', 'condenses', 'releases', 'energy', 'warms', 'environment', 'heat', 'exchanges', 'influence', 'climate', 'evaporative', 'phase', 'cycle', 'purifies', 'water', 'replenishes', 'land', 'freshwater', 'flow', 'liquid', 'water', 'ice', 'transports', 'minerals', 'across', 'globe', 'also', 'involved', 'reshaping', 'geological', 'features', 'earth', 'processes', 'including', 'erosion', 'sedimentation', 'water', 'cycle', 'also', 'essential', 'maintenance', 'life', 'ecosystems', 'planet']\n"
     ]
    }
   ],
   "source": [
    "#Step 3: stop word removal \n",
    "word = tc.stopwordremove(word)\n",
    "# word = ' '.join()\n",
    "print(\"CONTENT AFTER STEP 3 STOPWORD REMOVAL: \",word)"
   ]
  },
  {
   "cell_type": "code",
   "execution_count": 6,
   "metadata": {},
   "outputs": [],
   "source": [
    "# #Step 4: Stemming (convert to base using dictionary) -> convert words to root words\n",
    "# from nltk.stem import PorterStemmer\n",
    "# k = []\n",
    "# ps = PorterStemmer()\n",
    "# for i in word:\n",
    "#     temp = ps.stem(i)\n",
    "#     if temp not in k:\n",
    "#         k.append(ps.stem(i))\n",
    "#     # print(\"CONTENT AFTER STEP 4 STEMMING: \",k)\n",
    "# print(\"CONTENT AFTER STEP 4 STEMMING: \",k)"
   ]
  },
  {
   "cell_type": "code",
   "execution_count": 7,
   "metadata": {},
   "outputs": [],
   "source": [
    "# word = ' '.join(k)\n",
    "# word\n",
    "k=[]"
   ]
  },
  {
   "cell_type": "code",
   "execution_count": 8,
   "metadata": {},
   "outputs": [
    {
     "name": "stdout",
     "output_type": "stream",
     "text": [
      "CONTENT AFTER STEP 5 LEMMATIZATION:  ['water', 'cycle', 'also', 'known', 'hydrologic', 'hydrological', 'biogeochemical', 'describes', 'continuous', 'movement', 'surface', 'earth', 'mass', 'remains', 'fairly', 'constant', 'time', 'partitioning', 'major', 'reservoir', 'ice', 'fresh', 'saline', 'salt', 'atmospheric', 'variable', 'depending', 'wide', 'range', 'climatic', 'move', 'one', 'another', 'river', 'ocean', 'atmosphere', 'physical', 'process', 'evaporation', 'transpiration', 'condensation', 'precipitation', 'infiltration', 'runoff', 'subsurface', 'flow', 'go', 'different', 'form', 'liquid', 'solid', 'vapor', 'play', 'key', 'role', 'source', 'global', 'involves', 'exchange', 'energy', 'lead', 'temperature', 'change', 'evaporates', 'take', 'surroundings', 'cool', 'environment', 'condenses', 'release', 'warms', 'heat', 'influence', 'climate', 'evaporative', 'phase', 'purifies', 'replenishes', 'land', 'freshwater', 'transport', 'mineral', 'across', 'globe', 'involved', 'reshaping', 'geological', 'feature', 'including', 'erosion', 'sedimentation', 'essential', 'maintenance', 'life', 'ecosystem', 'planet']\n"
     ]
    }
   ],
   "source": [
    "#Step 5: Lemmatization (convert to base using dictionary) -> convert words to root words\n",
    "from nltk.stem import WordNetLemmatizer\n",
    "lemmatizer = WordNetLemmatizer()\n",
    "for i in word:\n",
    "    temp = lemmatizer.lemmatize(i)\n",
    "    if temp not in k:\n",
    "        k.append(temp)\n",
    "print(\"CONTENT AFTER STEP 5 LEMMATIZATION: \",k)\n",
    "word = ' '.join(k)"
   ]
  },
  {
   "cell_type": "code",
   "execution_count": 9,
   "metadata": {},
   "outputs": [
    {
     "name": "stdout",
     "output_type": "stream",
     "text": [
      "CONTENT AFTER PREPROCESSING:  water cycle also known hydrologic hydrological biogeochemical describes continuous movement surface earth mass remains fairly constant time partitioning major reservoir ice fresh saline salt atmospheric variable depending wide range climatic move one another river ocean atmosphere physical process evaporation transpiration condensation precipitation infiltration runoff subsurface flow go different form liquid solid vapor play key role source global involves exchange energy lead temperature change evaporates take surroundings cool environment condenses release warms heat influence climate evaporative phase purifies replenishes land freshwater transport mineral across globe involved reshaping geological feature including erosion sedimentation essential maintenance life ecosystem planet\n"
     ]
    }
   ],
   "source": [
    "#CHECK THE SENTECE FORMED AFTER STEMMING AND LEMMATIZATION\n",
    "print(\"CONTENT AFTER PREPROCESSING: \",word)"
   ]
  },
  {
   "cell_type": "code",
   "execution_count": 10,
   "metadata": {},
   "outputs": [
    {
     "name": "stdout",
     "output_type": "stream",
     "text": [
      "earth LOC\n"
     ]
    }
   ],
   "source": [
    "#Step 6: Named Entity Recognition\n",
    "import spacy \n",
    "nlpl = spacy.load('en_core_web_sm')\n",
    "doc = nlpl(word)\n",
    "for ent in doc.ents:\n",
    "    print(ent.text,ent.label_)\n"
   ]
  },
  {
   "cell_type": "code",
   "execution_count": 11,
   "metadata": {},
   "outputs": [
    {
     "name": "stdout",
     "output_type": "stream",
     "text": [
      "CONTENT AFTER STEP 7 NORMAL KEYWORD EXTRACTION:  [('mineral', 1), ('purifies', 1), ('ocean', 1), ('climatic', 1), ('biogeochemical', 1), ('major', 1), ('atmospheric', 1), ('salt', 1), ('source', 1), ('warms', 1), ('solid', 1), ('evaporative', 1), ('ice', 1), ('sedimentation', 1), ('role', 1)]\n"
     ]
    }
   ],
   "source": [
    "# Normal key word extraction\n",
    "keyword1 = tc.keywordextract(word)\n",
    "print(\"CONTENT AFTER STEP 7 NORMAL KEYWORD EXTRACTION: \",keyword1)"
   ]
  },
  {
   "cell_type": "code",
   "execution_count": 12,
   "metadata": {},
   "outputs": [
    {
     "name": "stdout",
     "output_type": "stream",
     "text": [
      "continuous movement surface earth mass: 0.9677419354838709\n",
      "essential maintenance life ecosystem planet: 0.9677419354838709\n",
      "exchange energy lead temperature change: 0.9677419354838709\n",
      "land freshwater transport mineral: 0.9677419354838709\n",
      "physical process evaporation transpiration condensation precipitation infiltration runoff subsurface flow: 0.9677419354838709\n",
      "surroundings cool environment condenses: 0.9677419354838709\n",
      "fresh saline salt: 0.8064516129032258\n",
      "heat influence climate: 0.8064516129032258\n",
      "hydrologic hydrological biogeochemical: 0.8064516129032258\n",
      "key role source: 0.8064516129032258\n",
      "CONTENT AFTER STEP 7 MONKEYLEARN KEYWORD EXTRACTION:  dict_keys(['continuous movement surface earth mass', 'essential maintenance life ecosystem planet', 'exchange energy lead temperature change', 'land freshwater transport mineral', 'physical process evaporation transpiration condensation precipitation infiltration runoff subsurface flow', 'surroundings cool environment condenses', 'fresh saline salt', 'heat influence climate', 'hydrologic hydrological biogeochemical', 'key role source'])\n"
     ]
    }
   ],
   "source": [
    "#keyword extraction using monekey learn\n",
    "keyword2 = tc.monkeyword(word)\n",
    "print(\"CONTENT AFTER STEP 7 MONKEYLEARN KEYWORD EXTRACTION: \",keyword2.keys())"
   ]
  },
  {
   "cell_type": "code",
   "execution_count": 13,
   "metadata": {},
   "outputs": [
    {
     "name": "stdout",
     "output_type": "stream",
     "text": [
      "CONTENT AFTER STEP 7 YAKE KEYWORD EXTRACTION: \n"
     ]
    },
    {
     "data": {
      "text/plain": [
       "[('hydrologic hydrological biogeochemical', 0.03339840940482845),\n",
       " ('hydrological biogeochemical describes', 0.03339840940482845),\n",
       " ('biogeochemical describes continuous', 0.03339840940482845),\n",
       " ('describes continuous movement', 0.03339840940482845),\n",
       " ('continuous movement surface', 0.03339840940482845),\n",
       " ('movement surface earth', 0.03339840940482845),\n",
       " ('surface earth mass', 0.03339840940482845),\n",
       " ('earth mass remains', 0.03339840940482845),\n",
       " ('mass remains fairly', 0.03339840940482845),\n",
       " ('remains fairly constant', 0.03339840940482845),\n",
       " ('fairly constant time', 0.03339840940482845),\n",
       " ('constant time partitioning', 0.03339840940482845),\n",
       " ('time partitioning major', 0.03339840940482845),\n",
       " ('partitioning major reservoir', 0.03339840940482845),\n",
       " ('major reservoir ice', 0.03339840940482845),\n",
       " ('reservoir ice fresh', 0.03339840940482845),\n",
       " ('ice fresh saline', 0.03339840940482845),\n",
       " ('fresh saline salt', 0.03339840940482845),\n",
       " ('saline salt atmospheric', 0.03339840940482845),\n",
       " ('life ecosystem planet', 0.016559150827736194)]"
      ]
     },
     "execution_count": 13,
     "metadata": {},
     "output_type": "execute_result"
    }
   ],
   "source": [
    "#keyword extraction using YAKE\n",
    "import yake\n",
    "key_extractor = yake.KeywordExtractor()\n",
    "language = \"en\"\n",
    "max_ngram_size = 3\n",
    "deduplication_threshold = 0.5\n",
    "numOfKeywords = 20\n",
    "custom_kw_extractor = yake.KeywordExtractor(lan=language, n=max_ngram_size, dedupLim=deduplication_threshold, top=numOfKeywords, features=None)\n",
    "keyword3 = custom_kw_extractor.extract_keywords(word)\n",
    "print(\"CONTENT AFTER STEP 7 YAKE KEYWORD EXTRACTION: \")\n",
    "keyword3 = sorted(keyword3, key = lambda x: x[1],reverse=True)\n",
    "keyword3"
   ]
  },
  {
   "cell_type": "code",
   "execution_count": 46,
   "metadata": {},
   "outputs": [],
   "source": [
    "#LINKS ARRAY\n",
    "import numpy as np\n",
    "links=np.array([])"
   ]
  },
  {
   "cell_type": "code",
   "execution_count": 47,
   "metadata": {},
   "outputs": [
    {
     "data": {
      "text/plain": [
       "array(['https://en.wikipedia.org/wiki/Water_cycle',\n",
       "       'https://www.hindawi.com/journals/amete/2014/419838/',\n",
       "       'https://www.jstor.org/stable/4354503',\n",
       "       'https://www.usgs.gov/special-topics/water-science-school/science/water-cycle',\n",
       "       'https://www.ipcc.ch/srocc/chapter/chapter-4-sea-level-rise-and-implications-for-low-lying-islands-coasts-and-communities/',\n",
       "       'https://www.ncbi.nlm.nih.gov/pmc/articles/PMC7157458/',\n",
       "       'https://www.britannica.com/science/hydrosphere',\n",
       "       'https://www.khanacademy.org/science/biology/ecology/biogeochemical-cycles/a/the-water-cycle',\n",
       "       'https://bio.libretexts.org/Courses/Gettysburg_College/01%3A_Ecology_for_All/20%3A_Biogeochemical_Cycles/20.02%3A_The_Water_(Hydrologic)_Cycle',\n",
       "       'https://www.ametsoc.org/index.cfm/ams/education-careers/education-program/undergraduate-course-packages/ocean-studies/course-components/textbook/ocean-textbook-chap-1/'],\n",
       "      dtype='<U167')"
      ]
     },
     "execution_count": 47,
     "metadata": {},
     "output_type": "execute_result"
    }
   ],
   "source": [
    "#SEARCH THROUGH KEYWORD 1\n",
    "import search\n",
    "c = []\n",
    "for i in range(len(keyword1)):\n",
    "    c.append(keyword1[i][0])\n",
    "#Join the Keywords\n",
    "c = ' '.join(c)\n",
    "#Search using the google API\n",
    "k = search.search(c)\n",
    "for i in k:\n",
    "    links = np.append(links,i['link'])\n",
    "    # print(i['link'])\n",
    "links"
   ]
  },
  {
   "cell_type": "code",
   "execution_count": 48,
   "metadata": {},
   "outputs": [
    {
     "name": "stdout",
     "output_type": "stream",
     "text": [
      "https://science.nasa.gov/earth-science/oceanography/ocean-earth-system/ocean-water-cycle\n",
      "https://www.sciencedirect.com/topics/agricultural-and-biological-sciences/hydrologic-cycle\n",
      "https://www.nwrfc.noaa.gov/info/water_cycle/hydrology.cgi\n",
      "https://pubs.usgs.gov/circ/circ1139/htdocs/natural_processes_of_ground.htm\n",
      "https://www.usgs.gov/special-topics/water-science-school/science/condensation-and-water-cycle\n",
      "https://quizlet.com/125379801/water-cycle-processes-flash-cards/\n",
      "https://www.ipcc.ch/srccl/chapter/chapter-4/\n",
      "https://mynasadata.larc.nasa.gov/basic-page/earth-system-matter-and-energy-cycles\n",
      "https://www.thegeographeronline.net/freshwater---issues-and-conflicts.html\n"
     ]
    },
    {
     "data": {
      "text/plain": [
       "False"
      ]
     },
     "execution_count": 48,
     "metadata": {},
     "output_type": "execute_result"
    }
   ],
   "source": [
    "#SEARCH THROUGH KEYWORD 2\n",
    "import search\n",
    "#Join the Keywords\n",
    "c = keyword2\n",
    "c = ' '.join(c)\n",
    "#Search using the google API\n",
    "k = search.search(c)\n",
    "for i in k:\n",
    "    # print(i['title'])\n",
    "    if i['link'] in links:\n",
    "        continue\n",
    "    else:\n",
    "        links = np.append(links,i['link'])\n",
    "    print(i['link'])\n",
    "links[1] == links[10]"
   ]
  },
  {
   "cell_type": "code",
   "execution_count": 49,
   "metadata": {},
   "outputs": [
    {
     "name": "stdout",
     "output_type": "stream",
     "text": [
      "https://en.wikipedia.org/wiki/Water_cycle\n",
      "https://www.hindawi.com/journals/amete/2014/419838/\n",
      "https://www.jstor.org/stable/4354503\n",
      "https://www.usgs.gov/special-topics/water-science-school/science/water-cycle\n",
      "https://www.ipcc.ch/srocc/chapter/chapter-4-sea-level-rise-and-implications-for-low-lying-islands-coasts-and-communities/\n",
      "https://www.ncbi.nlm.nih.gov/pmc/articles/PMC7157458/\n",
      "https://www.britannica.com/science/hydrosphere\n",
      "https://www.khanacademy.org/science/biology/ecology/biogeochemical-cycles/a/the-water-cycle\n",
      "https://bio.libretexts.org/Courses/Gettysburg_College/01%3A_Ecology_for_All/20%3A_Biogeochemical_Cycles/20.02%3A_The_Water_(Hydrologic)_Cycle\n",
      "https://www.ametsoc.org/index.cfm/ams/education-careers/education-program/undergraduate-course-packages/ocean-studies/course-components/textbook/ocean-textbook-chap-1/\n"
     ]
    }
   ],
   "source": [
    "#SEARCH THROUGH KEYWORD 3\n",
    "import search\n",
    "c = []\n",
    "for i in range(len(keyword1)):\n",
    "    c.append(keyword1[i][0])\n",
    "#Join the Keywords\n",
    "c = ' '.join(c)\n",
    "#Search using the google API\n",
    "k = search.search(c)\n",
    "for i in k:\n",
    "    if i['link'] not in links:\n",
    "        links = np.append(links,i['link'])\n",
    "\n",
    "    print(i['link'])"
   ]
  },
  {
   "cell_type": "code",
   "execution_count": 51,
   "metadata": {},
   "outputs": [
    {
     "data": {
      "text/plain": [
       "19"
      ]
     },
     "execution_count": 51,
     "metadata": {},
     "output_type": "execute_result"
    }
   ],
   "source": [
    "#TOTAL NUMBER OF UNIQUE LINKS\n",
    "len(links)"
   ]
  },
  {
   "cell_type": "code",
   "execution_count": 60,
   "metadata": {},
   "outputs": [
    {
     "name": "stdout",
     "output_type": "stream",
     "text": [
      "\n",
      "\n",
      "\n",
      "\n",
      "The water cycle, also known as the hydrologic cycle or the hydrological cycle, is a biogeochemical cycle that describes the continuous movement of water on, above and below the surface of the Earth. The mass of water on Earth remains fairly constant over time but the partitioning of the water into the major reservoirs of ice, fresh water, saline water (salt water) and atmospheric water is variable depending on a wide range of climatic variables. The water moves from one reservoir to another, such as from river to ocean, or from the ocean to the atmosphere, by the physical processes of evaporation, transpiration, condensation, precipitation, infiltration, surface runoff, and subsurface flow. In doing so, the water goes through different forms: liquid, solid (ice) and vapor. The ocean plays a key role in the water cycle as it is the source of 86% of global evaporation.[1]\n",
      "\n",
      "\n",
      "\n",
      "The water cycle involves the exchange of energy, which leads to temperature changes. When water evaporates, it takes up energy from its surroundings and cools the environment. When it condenses, it releases energy and warms the environment. These heat exchanges influence climate.\n",
      "\n",
      "\n",
      "\n",
      "The evaporative phase of the cycle purifies water which then replenishes the land with freshwater. The flow of liquid water and ice transports minerals across the globe. It is also involved in reshaping the geological features of the Earth, through processes including erosion and sedimentation. The water cycle is also essential for the maintenance of most life and ecosystems on the planet.\n",
      "\n",
      "\n",
      "\n",
      "\n",
      "\n",
      "\n",
      "\n",
      "The water cycle is powered from the energy emitted by the sun. This energy heats water in the ocean and seas. Water evaporates as water vapor into the air. Some ice and snow sublimates directly into water vapor. Evapotranspiration is water transpired from plants and evaporated from the soil. The water molecule H2O has smaller molecular mass than the major components of the atmosphere, nitrogen (N2) and oxygen (O2) and hence is less dense. Due to the significant difference in density, buoyancy drives humid air higher. As altitude increases, air pressure decreases and the temperature drops (see Gas laws). The lower temperature causes water vapor to condense into tiny liquid water droplets which are heavier than the air, and which fall unless supported by an updraft. A huge concentration of these droplets over a large area in the atmosphere become visible as cloud, while condensation near ground level is referred to as fog.\n",
      "\n",
      "\n",
      "\n",
      "Atmospheric circulation moves water vapor around the globe; cloud particles collide, grow, and fall out of the upper atmospheric layers as precipitation. Some precipitation falls as snow, hail, or sleet, and can accumulate in ice caps and glaciers, which can store frozen water for thousands of years. Most water falls as rain back into the ocean or onto land, where the water flows over the ground as surface runoff. A portion of this runoff enters rivers, with streamflow moving water towards the oceans. Runoff and water emerging from the ground (groundwater) may be stored as freshwater in lakes. Not all runoff flows into rivers; much of it soaks into the ground as infiltration. Some water infiltrates deep into the ground and replenishes aquifers, which can store freshwater for long periods of time. Some infiltration stays close to the land surface and can seep back into surface-water bodies (and the ocean) as groundwater discharge or be taken up by plants and transferred back to the atmosphere as water vapor by transpiration. Some groundwater finds openings in the land surface and emerges as freshwater springs. In river valleys and floodplains, there is often continuous water exchange between surface water and ground water in the hyporheic zone. Over time, the water returns to the ocean, to continue the water cycle.\n",
      "\n",
      "\n",
      "\n",
      "The ocean plays a key role in the water cycle. The ocean holds \"97% of the total water on the planet; 78% of global precipitation occurs over the ocean, and it is the source of 86% of global evaporation\".[1]\n",
      "\n",
      "\n",
      "\n",
      "The water cycle involves the following processes:\n",
      "\n",
      "\n",
      "\n",
      "The residence time of a reservoir within the hydrologic cycle is the average time a water molecule will spend in that reservoir (see adjacent table). It is a measure of the average age of the water in that reservoir.\n",
      "\n",
      "\n",
      "\n",
      "Groundwater can spend over 10,000 years beneath Earth's surface before leaving. Particularly old groundwater is called fossil water. Water stored in the soil remains there very briefly, because it is spread thinly across the Earth, and is readily lost by evaporation, transpiration, stream flow, or groundwater recharge. After evaporating, the residence time in the atmosphere is about 9 days before condensing and falling to the Earth as precipitation.\n",
      "\n",
      "\n",
      "\n",
      "The major ice sheets – Antarctica and Greenland – store ice for very long periods. Ice from Antarctica has been reliably dated to 800,000 years before present, though the average residence time is shorter.[15]\n",
      "\n",
      "\n",
      "\n",
      "In hydrology, residence times can be estimated in two ways.[citation needed] The more common method relies on the principle of conservation of mass (water balance) and assumes the amount of water in a given reservoir is roughly constant. With this method, residence times are estimated by dividing the volume of the reservoir by the rate by which water either enters or exits the reservoir. Conceptually, this is equivalent to timing how long it would take the reservoir to become filled from empty if no water were to leave (or how long it would take the reservoir to empty from full if no water were to enter).\n",
      "\n",
      "\n",
      "\n",
      "An alternative method to estimate residence times, which is gaining in popularity for dating groundwater, is the use of isotopic techniques. This is done in the subfield of isotope hydrology.\n",
      "\n",
      "\n",
      "\n",
      "The water cycle describes the processes that drive the movement of water throughout the hydrosphere. However, much more water is \"in storage\" for long periods of time than is actually moving through the cycle. The storehouses for the vast majority of all water on Earth are the oceans. It is estimated that of the 1,386,000,000 km3 of the world's water supply, about 1,338,000,000 km3 is stored in oceans, or about 97%. It is also estimated that the oceans supply about 90% of the evaporated water that goes into the water cycle.[16] The Earth's ice caps, glaciers, and permanent snowpack stores another 24,064,000 km3 accounting for only 1.7% of the planet's total water volume. However, this quantity of water is 68.7% of all freshwater on the planet.[17]\n",
      "\n",
      "\n",
      "\n",
      "Since the middle of the 20th century, human-caused climate change has resulted in observable changes in the global water cycle.[19]: 85  The IPCC Sixth Assessment Report in 2021 predicted that these changes will continue to grow significantly at the global and regional level.[19]: 85  These findings are a continuation of scientific consensus expressed in the IPCC Fifth Assessment Report from 2007 and other special reports by the Intergovernmental Panel on Climate Change which had already stated that the water cycle will continue to \"intensify\" throughout the 21st century.[20]\n",
      "\n"
     ]
    },
    {
     "ename": "UnicodeEncodeError",
     "evalue": "'charmap' codec can't encode character '\\u200a' in position 0: character maps to <undefined>",
     "output_type": "error",
     "traceback": [
      "\u001b[1;31m---------------------------------------------------------------------------\u001b[0m",
      "\u001b[1;31mUnicodeEncodeError\u001b[0m                        Traceback (most recent call last)",
      "Cell \u001b[1;32mIn[60], line 19\u001b[0m\n\u001b[0;32m     17\u001b[0m     s \u001b[39m=\u001b[39m data\u001b[39m.\u001b[39mget_text()\n\u001b[0;32m     18\u001b[0m     \u001b[39mprint\u001b[39m(s)\n\u001b[1;32m---> 19\u001b[0m     f\u001b[39m.\u001b[39;49mwritelines(s)\n\u001b[0;32m     20\u001b[0m     \u001b[39mprint\u001b[39m(\u001b[39m\"\u001b[39m\u001b[39m\\n\u001b[39;00m\u001b[39m\"\u001b[39m)\n\u001b[0;32m     22\u001b[0m \u001b[39m#removing new line characters\u001b[39;00m\n",
      "File \u001b[1;32mc:\\Users\\bOct0\\AppData\\Local\\Programs\\Python\\Python311\\Lib\\encodings\\cp1252.py:19\u001b[0m, in \u001b[0;36mIncrementalEncoder.encode\u001b[1;34m(self, input, final)\u001b[0m\n\u001b[0;32m     18\u001b[0m \u001b[39mdef\u001b[39;00m \u001b[39mencode\u001b[39m(\u001b[39mself\u001b[39m, \u001b[39minput\u001b[39m, final\u001b[39m=\u001b[39m\u001b[39mFalse\u001b[39;00m):\n\u001b[1;32m---> 19\u001b[0m     \u001b[39mreturn\u001b[39;00m codecs\u001b[39m.\u001b[39mcharmap_encode(\u001b[39minput\u001b[39m,\u001b[39mself\u001b[39m\u001b[39m.\u001b[39merrors,encoding_table)[\u001b[39m0\u001b[39m]\n",
      "\u001b[1;31mUnicodeEncodeError\u001b[0m: 'charmap' codec can't encode character '\\u200a' in position 0: character maps to <undefined>"
     ]
    }
   ],
   "source": [
    "#EXTRACTING TEXT FROM WEBSITE(WEB SCRAPING)\n",
    "from bs4 import BeautifulSoup\n",
    "import urllib.request\n",
    "import os\n",
    "\n",
    "for i in links:\n",
    "    #Retrieve the HTML DOC\n",
    "    urllib.request.urlretrieve(i,'text_file.txt')\n",
    "    #Open the file in read mode\n",
    "    file = open(\"text_file.txt\",\"r\",encoding=\"utf8\")\n",
    "    contents = file.read()\n",
    "    #html parsing\n",
    "    soup = BeautifulSoup(contents,'html.parser')\n",
    "    f = open('text_file.txt','w')\n",
    "    #find the paragraph tag\n",
    "    for data in soup.find_all(\"p\"):\n",
    "        s = data.get_text()\n",
    "        print(s)\n",
    "        f.writelines(s)\n",
    "        print(\"\\n\")\n",
    "\n",
    "    #removing new line characters\n",
    "    txt_file = open(\"text_file.txt\",\"r+\")\n",
    "    lines = [line for line in txt_file.readlines()]\n",
    "\n",
    "    b = [item.rstrip() for item in lines]\n",
    "\n",
    "    txt = ''\n",
    "    for i in range(len(b)):\n",
    "        txt = txt + b[i]\n",
    "    print(txt)\n",
    "    os.remove('text_file.txt')\n",
    "    f.close()"
   ]
  },
  {
   "cell_type": "code",
   "execution_count": null,
   "metadata": {},
   "outputs": [],
   "source": []
  }
 ],
 "metadata": {
  "kernelspec": {
   "display_name": "Python 3",
   "language": "python",
   "name": "python3"
  },
  "language_info": {
   "codemirror_mode": {
    "name": "ipython",
    "version": 3
   },
   "file_extension": ".py",
   "mimetype": "text/x-python",
   "name": "python",
   "nbconvert_exporter": "python",
   "pygments_lexer": "ipython3",
   "version": "3.11.1"
  },
  "orig_nbformat": 4
 },
 "nbformat": 4,
 "nbformat_minor": 2
}
